{
 "cells": [
  {
   "cell_type": "code",
   "execution_count": 5,
   "metadata": {},
   "outputs": [],
   "source": [
    "from decouple import config\n",
    "from langchain_openai import ChatOpenAI\n",
    "from langchain_core.output_parsers import StrOutputParser\n",
    "from langchain_core.prompts import ChatPromptTemplate"
   ]
  },
  {
   "cell_type": "code",
   "execution_count": 6,
   "metadata": {},
   "outputs": [],
   "source": [
    "OPEN_AI_API_KEY = config('OPEN_AI_KEY')\n",
    "UPSTASH_VECTOR_URL = config('UPSTASH_VECTOR_ENDPOINT')\n",
    "UPSTASH_VECTOR_TOKEN = config('UPSTASH_VECTOR_TOKEN')"
   ]
  },
  {
   "cell_type": "code",
   "execution_count": 7,
   "metadata": {},
   "outputs": [],
   "source": [
    "from openai import OpenAI\n",
    "\n",
    "client = OpenAI(api_key=OPEN_AI_API_KEY)"
   ]
  },
  {
   "cell_type": "code",
   "execution_count": 8,
   "metadata": {},
   "outputs": [],
   "source": [
    "from upstash_vector import Vector\n",
    "from upstash_vector import Index\n",
    "\n",
    "index = Index(url=UPSTASH_VECTOR_URL,token=UPSTASH_VECTOR_TOKEN)"
   ]
  },
  {
   "cell_type": "code",
   "execution_count": 11,
   "metadata": {},
   "outputs": [],
   "source": [
    "# OPENAI EMBEDDING METHOD \n",
    "def get_embedding(text, model=\"text-embedding-3-small\"):\n",
    "    text = text.replace(\"\\n\", \" \")\n",
    "    return client.embeddings.create(input = [text], model=model).data[0].embedding"
   ]
  },
  {
   "cell_type": "code",
   "execution_count": 12,
   "metadata": {},
   "outputs": [],
   "source": [
    "documents = [\n",
    "    \"Blue elephants dance at midnight.\",\n",
    "    \"Quantum physics makes my coffee taste better.\",\n",
    "    \"Seven ducks wearing sunglasses walked into a bar.\",\n",
    "    \"The sky whispered a lullaby to the restless stars.\",\n",
    "    \"Never trust a penguin with a briefcase.\"\n",
    "    \"The cat danced on the rooftop under the full moon.\",\n",
    "    \"She found a mysterious key hidden under the old carpet.\",\n",
    "    \"A sudden gust of wind knocked over the stack of books.\",\n",
    "    \"He couldn't believe the spaceship was actually real.\",\n",
    "    \"The smell of fresh coffee filled the entire house.\",\n",
    "    \"Lightning flashed across the dark and stormy sky.\",\n",
    "    \"A talking parrot revealed the secret treasure map.\",\n",
    "    \"The clock struck midnight, and everything changed.\",\n",
    "    \"She laughed as the puppy chased its own tail.\",\n",
    "    \"An ancient book contained secrets lost to time.\",\n",
    "    \"The robot blinked twice before speaking in perfect English.\",\n",
    "    \"A secret door appeared behind the bookshelf.\",\n",
    "    \"The ice cream truck played an eerie tune as it drove by.\",\n",
    "    \"He accidentally discovered a portal to another dimension.\",\n",
    "    \"The detective found a cryptic note under the suspect’s chair.\",\n",
    "    \"A butterfly landed on her hand and whispered a message.\",\n",
    "    \"The abandoned house had lights flickering in the attic.\",\n",
    "    \"A fisherman caught a golden fish that granted three wishes.\",\n",
    "    \"She woke up to find a tiny dragon sleeping on her pillow.\",\n",
    "    \"A mysterious package arrived with no return address.\",\n",
    "    \"The magician’s hat was deeper than it seemed.\",\n",
    "    \"A single rose bloomed in the middle of the desert.\",\n",
    "    \"The haunted mirror reflected a different reality.\",\n",
    "    \"A hidden tunnel led to an underground kingdom.\",\n",
    "    \"His shadow moved even when he stood still.\",\n",
    "    \"The elevator button labeled 'Mystery' took them somewhere unexpected.\",\n",
    "    \"She received a letter from her future self.\",\n",
    "    \"The moon changed colors as the night progressed.\",\n",
    "    \"A treehouse in the woods held a long-lost secret.\",\n",
    "    \"The music box played a tune no one recognized.\",\n",
    "    \"A scientist accidentally created a new species of plant.\",\n",
    "    \"A painting in the museum blinked at her.\",\n",
    "    \"The river flowed uphill for exactly one hour every day.\",\n",
    "    \"A clock in the town square started ticking backward.\",\n",
    "    \"The clouds formed shapes that told a story.\",\n",
    "    \"She stepped into a puddle and ended up in another world.\",\n",
    "    \"A library book contained handwritten notes from a ghost.\",\n",
    "    \"The wind carried whispers of an unknown language.\",\n",
    "    \"An old camera revealed things invisible to the human eye.\",\n",
    "    \"A lighthouse beamed a message in Morse code.\",\n",
    "    \"The statue in the park moved when no one was looking.\",\n",
    "    \"A mysterious melody played from an abandoned piano.\",\n",
    "    \"His reflection in the mirror didn’t match his movements.\",\n",
    "    \"The town vanished from the map overnight.\",\n",
    "    \"A pair of sunglasses let her see people’s true emotions.\",\n",
    "    \"The vending machine dispensed something that wasn’t on the menu.\",\n",
    "    \"Every midnight, the streetlights flickered in perfect sync.\",\n",
    "    \"A message in a bottle arrived from the past.\",\n",
    "    \"The old radio picked up signals from another galaxy.\",\n",
    "    \"A snow globe contained a miniature version of their town.\"\n",
    "]"
   ]
  },
  {
   "cell_type": "code",
   "execution_count": 13,
   "metadata": {},
   "outputs": [],
   "source": [
    "embeddings = [get_embedding(x) for x in documents]"
   ]
  },
  {
   "cell_type": "code",
   "execution_count": 16,
   "metadata": {},
   "outputs": [],
   "source": [
    "# convert list into a key:value pairs\n",
    "\n",
    "dataset = {}\n",
    "\n",
    "for i, embeddings in enumerate(embeddings):\n",
    "    dataset[i] = embeddings"
   ]
  },
  {
   "cell_type": "code",
   "execution_count": 18,
   "metadata": {},
   "outputs": [],
   "source": [
    "vectors = []\n",
    "for key, value in dataset.items():\n",
    "    id = key\n",
    "    embedding = value\n",
    "\n",
    "    vectors.append(Vector(id=id,vector=embedding))"
   ]
  },
  {
   "cell_type": "code",
   "execution_count": 20,
   "metadata": {},
   "outputs": [
    {
     "data": {
      "text/plain": [
       "'Success'"
      ]
     },
     "execution_count": 20,
     "metadata": {},
     "output_type": "execute_result"
    }
   ],
   "source": [
    "# insert vector to Upstash index\n",
    "\n",
    "index.upsert(\n",
    "    vectors=vectors\n",
    ")"
   ]
  },
  {
   "cell_type": "code",
   "execution_count": 21,
   "metadata": {},
   "outputs": [],
   "source": [
    "# query from Upstash index\n",
    "query_str = \"The Flash woke up to find a tiny dragon sleeping on her pillow.\"\n",
    "query_embedded = get_embedding(query_str)"
   ]
  },
  {
   "cell_type": "code",
   "execution_count": 23,
   "metadata": {},
   "outputs": [],
   "source": [
    "results = index.query(\n",
    "    vector=query_embedded,\n",
    "    top_k=5,\n",
    "    include_vectors=True,\n",
    "    include_metadata=True,\n",
    ")"
   ]
  },
  {
   "cell_type": "code",
   "execution_count": 24,
   "metadata": {},
   "outputs": [
    {
     "name": "stdout",
     "output_type": "stream",
     "text": [
      "22 0.9125993\n",
      "19 0.6798767\n",
      "35 0.65760505\n",
      "9 0.6551604\n",
      "5 0.65111583\n"
     ]
    }
   ],
   "source": [
    "for result in results: \n",
    "    print(result.id, result.score)"
   ]
  },
  {
   "cell_type": "code",
   "execution_count": null,
   "metadata": {},
   "outputs": [],
   "source": [
    "import numpy as np"
   ]
  },
  {
   "cell_type": "code",
   "execution_count": null,
   "metadata": {},
   "outputs": [],
   "source": [
    "def calculate_cosine_metrics(v1,v2):\n",
    "    dot_product = np.dot(v1,v2)\n",
    "    magnitude1 = np.linalg.norm(v1)\n",
    "    magnitude2 = np.linalg.norm(v2)\n",
    "    cosine_similarity = dot_product / (magnitude1 * magnitude2)\n",
    "    cosine_distance = 1 - cosine_similarity\n",
    "\n",
    "    return int(cosine_similarity * 100), int(cosine_distance * 100)"
   ]
  },
  {
   "cell_type": "code",
   "execution_count": null,
   "metadata": {},
   "outputs": [],
   "source": [
    "query_str = \"I am the Flash!\"\n",
    "query_embedded = get_embedding(query_str)\n",
    "\n",
    "for emb in embeddings:\n",
    "    print(calculate_cosine_metrics(query_embedded,emb))"
   ]
  }
 ],
 "metadata": {
  "kernelspec": {
   "display_name": "venv",
   "language": "python",
   "name": "python3"
  },
  "language_info": {
   "codemirror_mode": {
    "name": "ipython",
    "version": 3
   },
   "file_extension": ".py",
   "mimetype": "text/x-python",
   "name": "python",
   "nbconvert_exporter": "python",
   "pygments_lexer": "ipython3",
   "version": "3.12.6"
  }
 },
 "nbformat": 4,
 "nbformat_minor": 2
}
