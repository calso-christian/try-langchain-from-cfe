{
 "cells": [
  {
   "cell_type": "code",
   "execution_count": 2,
   "metadata": {},
   "outputs": [],
   "source": [
    "from decouple import config\n",
    "from langchain_openai import ChatOpenAI\n",
    "from langchain_core.output_parsers import StrOutputParser\n",
    "from langchain_core.prompts import ChatPromptTemplate"
   ]
  },
  {
   "cell_type": "code",
   "execution_count": 3,
   "metadata": {},
   "outputs": [],
   "source": [
    "OPEN_AI_API_KEY = config('OPEN_AI_KEY')"
   ]
  },
  {
   "cell_type": "code",
   "execution_count": 4,
   "metadata": {},
   "outputs": [],
   "source": [
    "LLM_CONFIG = {\n",
    "    \"api_key\": OPEN_AI_API_KEY,\n",
    "    \"model\": 'gpt-4o-mini'\n",
    "}"
   ]
  },
  {
   "cell_type": "code",
   "execution_count": 5,
   "metadata": {},
   "outputs": [],
   "source": [
    "model = ChatOpenAI(**LLM_CONFIG)\n",
    "parser = StrOutputParser()"
   ]
  },
  {
   "cell_type": "code",
   "execution_count": 6,
   "metadata": {},
   "outputs": [],
   "source": [
    "system_prompt = \"Translate the following into {language}\""
   ]
  },
  {
   "cell_type": "code",
   "execution_count": 7,
   "metadata": {},
   "outputs": [],
   "source": [
    "prompt_template = ChatPromptTemplate.from_messages([\n",
    "        (\"system\",system_prompt),\n",
    "        (\"user\", \"{input_text}\")\n",
    "    ])"
   ]
  },
  {
   "cell_type": "code",
   "execution_count": 8,
   "metadata": {},
   "outputs": [
    {
     "data": {
      "text/plain": [
       "'私の名前はクレア・アン・デルフィンです。私は卵です。'"
      ]
     },
     "execution_count": 8,
     "metadata": {},
     "output_type": "execute_result"
    }
   ],
   "source": [
    "chain = prompt_template | model | parser\n",
    "chain.invoke({\"language\":\"Japanese\", \"input_text\":\"My name is Claire Ann Delfin, I am an Egg.\"})"
   ]
  },
  {
   "cell_type": "code",
   "execution_count": 19,
   "metadata": {},
   "outputs": [
    {
     "data": {
      "text/plain": [
       "'Ang pangalan ko ay Barry Allen, ang pinakamabilis na tao. Sa ibang mundo, ako ay isang karaniwang forensic scientist, ngunit lihim na, sa tulong ng mga kaibigan ko sa S.T.A.R. Labs, nakikipaglaban ako sa krimen at naghahanap ng iba pang mga metahuman tulad ko. Nasundan ko ang lalaki na pumatay sa aking ina, ngunit resulta nito ay nagdala tayo ng bagong banta sa ating mundo. At ako lamang ang may sapat na bilis upang pigilan ang mga ito. Ako ay... The Flash!'"
      ]
     },
     "execution_count": 19,
     "metadata": {},
     "output_type": "execute_result"
    }
   ],
   "source": [
    "chain = prompt_template | model | parser\n",
    "chain.invoke({\"language\":\"Tagalog\", \"input_text\":\"私の名前はバリー・アレン、最速の男です。外の世界では、私は普通の法医学者ですが、秘密裏に、S.T.A.R.ラボの友人たちの助けを借りて犯罪と戦い、私のような他のメタヒューマンを探しています。私は母を殺した男を追い詰めましたが、その結果、私たちの世界に新たな脅威を呼び込んでしまいました。そして、私だけがそれらを止めるのに十分な速さを持っています。私は... フラッシュです！\"})"
   ]
  }
 ],
 "metadata": {
  "kernelspec": {
   "display_name": "venv",
   "language": "python",
   "name": "python3"
  },
  "language_info": {
   "codemirror_mode": {
    "name": "ipython",
    "version": 3
   },
   "file_extension": ".py",
   "mimetype": "text/x-python",
   "name": "python",
   "nbconvert_exporter": "python",
   "pygments_lexer": "ipython3",
   "version": "3.12.6"
  }
 },
 "nbformat": 4,
 "nbformat_minor": 2
}
